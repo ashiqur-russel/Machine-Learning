{
 "cells": [
  {
   "cell_type": "code",
   "execution_count": 1,
   "id": "d9c2492c",
   "metadata": {
    "collapsed": true
   },
   "outputs": [
    {
     "ename": "SyntaxError",
     "evalue": "invalid syntax (<ipython-input-1-274490578004>, line 1)",
     "output_type": "error",
     "traceback": [
      "\u001b[0;36m  File \u001b[0;32m\"<ipython-input-1-274490578004>\"\u001b[0;36m, line \u001b[0;32m1\u001b[0m\n\u001b[0;31m    brew install libtiff libjpeg webp little-cms2\u001b[0m\n\u001b[0m         ^\u001b[0m\n\u001b[0;31mSyntaxError\u001b[0m\u001b[0;31m:\u001b[0m invalid syntax\n"
     ]
    }
   ],
   "source": [
    "brew install libtiff libjpeg webp little-cms2"
   ]
  },
  {
   "cell_type": "markdown",
   "id": "4c470066",
   "metadata": {},
   "source": [
    "`Pip Install pillow` \n",
    "\n",
    "to install the pillow library\n",
    "\n"
   ]
  },
  {
   "cell_type": "code",
   "execution_count": 7,
   "id": "a6566d20",
   "metadata": {},
   "outputs": [],
   "source": [
    "from PIL import Image\n",
    "img = Image.open(\"/Users/ashiq/Desktop/3.jpeg\")\n",
    "img.show()"
   ]
  },
  {
   "cell_type": "code",
   "execution_count": 10,
   "id": "bc538637",
   "metadata": {},
   "outputs": [],
   "source": [
    "img.save(\"//Users/ashiq/Desktop/React/temp.jpeg\")"
   ]
  },
  {
   "cell_type": "markdown",
   "id": "af24e931",
   "metadata": {},
   "source": [
    "## Cropping an Image\n",
    "\n",
    "means extract a particular region of the image.Also called ROI ( Region of Interest ). The concept of ROI is useful when we want to run our algorithm only on a particular part of the image not the entire image.\n",
    "\n",
    "crop() function takes twp coordinates 1. The upper left cornet 2. bottom right corner of the rectangle that we are intereste din and it returns the cropped image."
   ]
  },
  {
   "cell_type": "code",
   "execution_count": 13,
   "id": "33bebc8d",
   "metadata": {},
   "outputs": [],
   "source": []
  },
  {
   "cell_type": "code",
   "execution_count": 18,
   "id": "0299701a",
   "metadata": {},
   "outputs": [],
   "source": [
    "from PIL import Image\n",
    "dim = (100,100,400,400) # Dimension of the ROI\n",
    "crop_img = img.crop(dim)\n",
    "crop_img.show()"
   ]
  },
  {
   "cell_type": "code",
   "execution_count": null,
   "id": "f5c901f7",
   "metadata": {},
   "outputs": [],
   "source": []
  }
 ],
 "metadata": {
  "kernelspec": {
   "display_name": "Python 3",
   "language": "python",
   "name": "python3"
  },
  "language_info": {
   "codemirror_mode": {
    "name": "ipython",
    "version": 3
   },
   "file_extension": ".py",
   "mimetype": "text/x-python",
   "name": "python",
   "nbconvert_exporter": "python",
   "pygments_lexer": "ipython3",
   "version": "3.8.8"
  }
 },
 "nbformat": 4,
 "nbformat_minor": 5
}
