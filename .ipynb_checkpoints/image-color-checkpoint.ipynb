{
 "cells": [
  {
   "cell_type": "code",
   "execution_count": 4,
   "id": "e81ee1b4",
   "metadata": {},
   "outputs": [],
   "source": [
    "import numpy as np"
   ]
  },
  {
   "cell_type": "code",
   "execution_count": 5,
   "id": "c20770ee",
   "metadata": {},
   "outputs": [],
   "source": [
    "from matplotlib import pyplot as plt"
   ]
  },
  {
   "cell_type": "code",
   "execution_count": 6,
   "id": "2bf9ce24",
   "metadata": {},
   "outputs": [],
   "source": [
    "%matplotlib inline"
   ]
  },
  {
   "cell_type": "code",
   "execution_count": 8,
   "id": "87fd02e4",
   "metadata": {},
   "outputs": [
    {
     "name": "stdout",
     "output_type": "stream",
     "text": [
      "[1 2 3]\n"
     ]
    }
   ],
   "source": [
    "arr = np.array([1,2,3])\n",
    "print(arr)"
   ]
  },
  {
   "cell_type": "code",
   "execution_count": 10,
   "id": "7311d209",
   "metadata": {},
   "outputs": [
    {
     "data": {
      "text/plain": [
       "<matplotlib.image.AxesImage at 0x7fdaf96b25b0>"
      ]
     },
     "execution_count": 10,
     "metadata": {},
     "output_type": "execute_result"
    },
    {
     "data": {
      "image/png": "[encoded data removed]",
      "text/plain": [
       "<Figure size 432x288 with 1 Axes>"
      ]
     },
     "metadata": {
      "needs_background": "light"
     },
     "output_type": "display_data"
    }
   ],
   "source": [
    "color1 = [255,0,0]\n",
    "color2 = [0,255,0]\n",
    "color3 = [0,0,255]\n",
    "color4 = [30,127,150]\n",
    "\n",
    "plt.imshow(np.array([\n",
    "    [color1,color2],\n",
    "    [color3,color4],\n",
    "]))"
   ]
  },
  {
   "cell_type": "markdown",
   "id": "e471552d",
   "metadata": {},
   "source": [
    "## What is an Image?\n",
    "    An image is just a 'matrix' of 'Pixel', each one of a different color:\n",
    "    \n",
    "## Images in Python\n",
    "    With the help of numpy, we can represent imagaes as simple arrays of pixels.\n",
    "    \n",
    "    Each value in the RGB,  3-tuple has a range of [0.255]. How many color possibilitie are there in each pixel. \n",
    "    in an RGB image in OpenCV? Thats easy : 256 * 256 * 256 = 16777216 ."
   ]
  },
  {
   "cell_type": "code",
   "execution_count": 13,
   "id": "79d7c462",
   "metadata": {},
   "outputs": [
    {
     "name": "stdout",
     "output_type": "stream",
     "text": [
      "(2, 2, 3)\n"
     ]
    },
    {
     "data": {
      "text/plain": [
       "<matplotlib.image.AxesImage at 0x7fd502fc47f0>"
      ]
     },
     "execution_count": 13,
     "metadata": {},
     "output_type": "execute_result"
    },
    {
     "data": {
      "image/png": "[encoded data removed]",
      "text/plain": [
       "<Figure size 432x288 with 1 Axes>"
      ]
     },
     "metadata": {
      "needs_background": "light"
     },
     "output_type": "display_data"
    }
   ],
   "source": [
    "colors = [\n",
    "[\n",
    "    [0,0,255],\n",
    "    [0,255,0],\n",
    "],\n",
    "[\n",
    "    \n",
    "     [255,0,0],\n",
    "    [255,255,0],\n",
    "]\n",
    "]\n",
    "\n",
    "print(np.array(colors).shape)\n",
    "\n",
    "plt.imshow(colors)\n",
    "\n",
    "start_row= 0\n",
    "for row in colors:\n",
    "    start_col = -0.25\n",
    "    for color in row:\n",
    "        plt.text(start_col, start_row,str(color))\n",
    "        start_col +=1\n",
    "    start_row +=1\n"
   ]
  },
  {
   "cell_type": "markdown",
   "id": "452004c3",
   "metadata": {},
   "source": [
    "Real images are just much larger structer of pixels. For example, a Full HD picture is 1920x1080 pixels.But each pixel is vector of 3 elements, so its final shape would be: 1920x1080x3"
   ]
  },
  {
   "cell_type": "code",
   "execution_count": 14,
   "id": "e670b5bf",
   "metadata": {},
   "outputs": [],
   "source": [
    "SIZE = 2\n",
    "SIZE = 10\n",
    "#SIZE = 100\n",
    "\n",
    "colors = np.array(\n",
    "np.array([\n",
    "    np.array([np.random.randint(0,255,3) for x in range(SIZE)] for x in range(SIZE)\n",
    "            )\n",
    "    ])\n",
    "\n",
    ")"
   ]
  },
  {
   "cell_type": "code",
   "execution_count": null,
   "id": "29388ee0",
   "metadata": {},
   "outputs": [],
   "source": []
  }
 ],
 "metadata": {
  "kernelspec": {
   "display_name": "Python 3",
   "language": "python",
   "name": "python3"
  },
  "language_info": {
   "codemirror_mode": {
    "name": "ipython",
    "version": 3
   },
   "file_extension": ".py",
   "mimetype": "text/x-python",
   "name": "python",
   "nbconvert_exporter": "python",
   "pygments_lexer": "ipython3",
   "version": "3.8.8"
  }
 },
 "nbformat": 4,
 "nbformat_minor": 5
}
