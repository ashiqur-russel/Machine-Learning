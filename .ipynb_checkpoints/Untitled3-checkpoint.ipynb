{
 "cells": [
  {
   "cell_type": "code",
   "execution_count": 4,
   "id": "03ccd79d",
   "metadata": {},
   "outputs": [
    {
     "data": {
      "text/plain": [
       "2.0"
      ]
     },
     "execution_count": 4,
     "metadata": {},
     "output_type": "execute_result"
    }
   ],
   "source": [
    "import numpy as np\n",
    "numlist = [1,2,3,4,4]\n",
    "\n",
    "np.mean(numlist)\n",
    "np.sqrt(4)"
   ]
  },
  {
   "cell_type": "code",
   "execution_count": 8,
   "id": "29a3c9c2",
   "metadata": {},
   "outputs": [
    {
     "data": {
      "text/plain": [
       "array([ 1.,  2.,  3.,  4.,  5.,  6.,  7.,  8.,  9., 10., 11.])"
      ]
     },
     "execution_count": 8,
     "metadata": {},
     "output_type": "execute_result"
    }
   ],
   "source": [
    "np.linspace(1,11,11)"
   ]
  },
  {
   "cell_type": "code",
   "execution_count": 24,
   "id": "add2a788",
   "metadata": {},
   "outputs": [
    {
     "name": "stdout",
     "output_type": "stream",
     "text": [
      "[  4.  11.  18.  25.  31.  38.  45.  52.  59.  66.  73.  79.  86.  93.\n",
      " 100.]\n",
      "[ 2.          3.31662479  4.24264069  5.          5.56776436  6.164414\n",
      "  6.70820393  7.21110255  7.68114575  8.1240384   8.54400375  8.88819442\n",
      "  9.2736185   9.64365076 10.        ]\n"
     ]
    }
   ],
   "source": [
    "#create a lis and round it\n",
    "data = np.linspace(4,100,15)\n",
    "data_round = np.round(data)\n",
    "print(data_round)\n",
    "\n",
    "\n",
    "#sqaure root\n",
    "print(np.sqrt(data_round))\n"
   ]
  },
  {
   "cell_type": "code",
   "execution_count": 25,
   "id": "ec2ccb60",
   "metadata": {},
   "outputs": [],
   "source": [
    "import matplotlib.pyplot as plt\n"
   ]
  },
  {
   "cell_type": "code",
   "execution_count": null,
   "id": "1d7ebb68",
   "metadata": {},
   "outputs": [],
   "source": [
    "temperature = data_round\n",
    "Plot = plt.plot (temperature)\n",
    "Title = plt.title(\"Temperatures along critical stretch (ºC)\")\n",
    "X_Axis = plt.ylabel(\"Temperature (ºC)\")\n",
    "Y_Axis = plt.xlabel(\"List index\")\n"
   ]
  }
 ],
 "metadata": {
  "kernelspec": {
   "display_name": "Python 3",
   "language": "python",
   "name": "python3"
  },
  "language_info": {
   "codemirror_mode": {
    "name": "ipython",
    "version": 3
   },
   "file_extension": ".py",
   "mimetype": "text/x-python",
   "name": "python",
   "nbconvert_exporter": "python",
   "pygments_lexer": "ipython3",
   "version": "3.8.8"
  }
 },
 "nbformat": 4,
 "nbformat_minor": 5
}
